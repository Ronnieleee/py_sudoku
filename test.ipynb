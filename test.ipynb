{
 "cells": [
  {
   "cell_type": "code",
   "execution_count": 1,
   "id": "11d7c9f5",
   "metadata": {
    "ExecuteTime": {
     "end_time": "2022-01-06T03:16:30.817764Z",
     "start_time": "2022-01-06T03:16:29.752856Z"
    }
   },
   "outputs": [
    {
     "name": "stdout",
     "output_type": "stream",
     "text": [
      "[[6 3 9 2 5 8 4 1 7]\n",
      " [4 5 7 3 1 9 8 6 2]\n",
      " [2 8 1 7 4 6 9 5 3]\n",
      " [5 9 3 6 2 4 1 7 8]\n",
      " [8 2 4 5 7 1 3 9 6]\n",
      " [1 7 6 8 9 3 2 4 5]\n",
      " [7 4 2 9 8 5 6 3 1]\n",
      " [3 1 5 4 6 2 7 8 9]\n",
      " [9 6 8 1 3 7 5 2 4]]\n"
     ]
    }
   ],
   "source": [
    "from py_sudoku import Sudoku\n",
    "from random import seed\n",
    "from numpy import equal\n",
    "seed(1)\n",
    "puzzle = Sudoku()\n",
    "# Random create the whole Sudoku.\n",
    "realans = puzzle.board\n",
    "print(realans)"
   ]
  },
  {
   "cell_type": "code",
   "execution_count": 2,
   "id": "b84ba246",
   "metadata": {
    "ExecuteTime": {
     "end_time": "2022-01-06T03:16:33.290583Z",
     "start_time": "2022-01-06T03:16:33.276830Z"
    }
   },
   "outputs": [
    {
     "name": "stdout",
     "output_type": "stream",
     "text": [
      "[[6 0 9 2 5 8 0 0 0]\n",
      " [4 5 7 0 0 0 8 0 2]\n",
      " [2 0 0 0 4 0 0 5 0]\n",
      " [5 9 3 6 0 0 1 0 8]\n",
      " [8 0 0 5 7 0 3 9 0]\n",
      " [1 0 6 8 9 0 2 4 5]\n",
      " [0 4 2 9 0 5 0 3 1]\n",
      " [0 1 5 4 0 2 0 8 0]\n",
      " [9 0 8 0 3 7 5 0 4]]\n"
     ]
    }
   ],
   "source": [
    "# set the difficulty 0~1 recommand below 0.7.\n",
    "puzzle.difficulty(0.6)\n",
    "# get the sudoku puzzle by digging holes.\n",
    "puzzle.generator()\n",
    "problem = puzzle.board\n",
    "print(problem)"
   ]
  },
  {
   "cell_type": "code",
   "execution_count": 3,
   "id": "f7c85266",
   "metadata": {
    "ExecuteTime": {
     "end_time": "2022-01-06T03:16:37.033330Z",
     "start_time": "2022-01-06T03:16:37.028261Z"
    }
   },
   "outputs": [
    {
     "name": "stdout",
     "output_type": "stream",
     "text": [
      "[[6 3 9 2 5 8 4 1 7]\n",
      " [4 5 7 3 1 9 8 6 2]\n",
      " [2 8 1 7 4 6 9 5 3]\n",
      " [5 9 3 6 2 4 1 7 8]\n",
      " [8 2 4 5 7 1 3 9 6]\n",
      " [1 7 6 8 9 3 2 4 5]\n",
      " [7 4 2 9 8 5 6 3 1]\n",
      " [3 1 5 4 6 2 7 8 9]\n",
      " [9 6 8 1 3 7 5 2 4]]\n",
      "True\n"
     ]
    }
   ],
   "source": [
    "# solve the sudoku puzzle and test it.\n",
    "puzzle.solver()\n",
    "ans = puzzle.board\n",
    "print(ans)\n",
    "print(equal(ans, realans).all())"
   ]
  },
  {
   "cell_type": "code",
   "execution_count": 10,
   "id": "da703b3e",
   "metadata": {
    "ExecuteTime": {
     "end_time": "2022-01-06T03:10:41.900093Z",
     "start_time": "2022-01-06T03:10:41.712481Z"
    }
   },
   "outputs": [
    {
     "name": "stdout",
     "output_type": "stream",
     "text": [
      "[[10  9  2  4  1  7  8  6  5 11  3 12]\n",
      " [ 5  6  1  7  3  9 11 12  8  2  4 10]\n",
      " [11 12  3  8  4  5  2 10  6  9  7  1]\n",
      " [ 6  8 12 10  2  4  7 11  9  1  5  3]\n",
      " [ 4  3  5  1  8  6 10  9  2 12 11  7]\n",
      " [ 9 11  7  2 12  3  5  1  4  8 10  6]\n",
      " [ 7  5 11  6 10  2  3  8 12  4  1  9]\n",
      " [ 1 10  4  3  6 12  9  5 11  7  8  2]\n",
      " [12  2  8  9  7 11  1  4  3 10  6  5]\n",
      " [ 3  4 10 11  9  1  6  2  7  5 12  8]\n",
      " [ 8  7  9 12  5 10  4  3  1  6  2 11]\n",
      " [ 2  1  6  5 11  8 12  7 10  3  9  4]]\n",
      "\n",
      "[[10  0  0  0  0  7  0  0  0  0  3 12]\n",
      " [ 5  0  1  7  0  9  0  0  8  2  0  0]\n",
      " [11  0  0  0  0  5  0  0  0  9  7  1]\n",
      " [ 0  8  0 10  0  4  7  0  9  0  5  0]\n",
      " [ 0  3  0  0  8  6 10  0  0  0 11  7]\n",
      " [ 9  0  0  2  0  3  0  1  4  8  0  6]\n",
      " [ 7  5 11  0 10  2  3  8  0  4  1  0]\n",
      " [ 0 10  0  3  0 12  9  5 11  0  8  2]\n",
      " [12  2  8  9  7  0  1  0  3  0  6  0]\n",
      " [ 0  0 10 11  0  1  0  0  0  0  0  8]\n",
      " [ 8  7  0 12  5  0  4  3  0  0  0  0]\n",
      " [ 2  0  0  0  0  8 12  7  0  0  0  4]]\n"
     ]
    }
   ],
   "source": [
    "puzzlemn = Sudoku(3, 4)\n",
    "ans = puzzlemn.board\n",
    "print(ans)\n",
    "puzzlemn.generator()\n",
    "mnarray = puzzlemn.board\n",
    "print()\n",
    "print(mnarray)\n"
   ]
  },
  {
   "cell_type": "code",
   "execution_count": null,
   "id": "f5ec3811",
   "metadata": {},
   "outputs": [],
   "source": []
  }
 ],
 "metadata": {
  "kernelspec": {
   "display_name": "Python 3 (ipykernel)",
   "language": "python",
   "name": "python3"
  },
  "language_info": {
   "codemirror_mode": {
    "name": "ipython",
    "version": 3
   },
   "file_extension": ".py",
   "mimetype": "text/x-python",
   "name": "python",
   "nbconvert_exporter": "python",
   "pygments_lexer": "ipython3",
   "version": "3.9.7"
  }
 },
 "nbformat": 4,
 "nbformat_minor": 5
}
